{
 "cells": [
  {
   "cell_type": "code",
   "execution_count": 8,
   "metadata": {},
   "outputs": [
    {
     "name": "stdout",
     "output_type": "stream",
     "text": [
      "The token has not been saved to the git credentials helper. Pass `add_to_git_credential=True` in this function directly or `--add-to-git-credential` if using via `huggingface-cli` if you want to set the git credential as well.\n",
      "Token is valid (permission: fineGrained).\n",
      "Your token has been saved to /nfs/home/scg1143/.cache/huggingface/token\n",
      "Login successful\n"
     ]
    }
   ],
   "source": [
    "import warnings\n",
    "warnings.filterwarnings(\"ignore\")\n",
    "\n",
    "import os\n",
    "import sys\n",
    "from typing import List\n",
    "from dotenv import load_dotenv\n",
    "from llama_index.core import Document\n",
    "from llama_index.core import Settings\n",
    "from llama_index.embeddings.huggingface import HuggingFaceEmbedding\n",
    "from llama_index.llms.openai import OpenAI\n",
    "from llama_index.core.readers import SimpleDirectoryReader\n",
    "from llama_index.vector_stores.faiss import FaissVectorStore\n",
    "from llama_index.core.ingestion import IngestionPipeline\n",
    "from llama_index.core.node_parser import SentenceSplitter\n",
    "from llama_index.core import VectorStoreIndex\n",
    "from llama_index.core.postprocessor import SentenceTransformerRerank, LLMRerank\n",
    "from llama_index.core import QueryBundle\n",
    "import faiss\n",
    "from huggingface_hub import hf_hub_download\n",
    "from huggingface_hub import login\n",
    "import pandas as pd \n",
    "from pathlib import Path\n",
    "\n",
    "\n",
    "load_dotenv()\n",
    "login(os.environ['HF_TOKEN'])"
   ]
  },
  {
   "cell_type": "code",
   "execution_count": 31,
   "metadata": {},
   "outputs": [
    {
     "name": "stdout",
     "output_type": "stream",
     "text": [
      "LLM is explicitly disabled. Using MockLLM.\n"
     ]
    }
   ],
   "source": [
    "# Llamaindex global settings for llm and embeddings\n",
    "EMBED_DIMENSION=1024\n",
    "model_id=\"baconnier/Finance_embedding_large_en-V0.1\"\n",
    "Settings.llm = None\n",
    "Settings.embed_model = HuggingFaceEmbedding(model_name=model_id)"
   ]
  },
  {
   "cell_type": "markdown",
   "metadata": {},
   "source": [
    "## FinQABench"
   ]
  },
  {
   "cell_type": "code",
   "execution_count": 10,
   "metadata": {},
   "outputs": [
    {
     "name": "stdout",
     "output_type": "stream",
     "text": [
      "['convfinqa_queries.jsonl', 'ConvFinQA_qrels.tsv', 'FinanceBench_qrels.tsv', 'FinDER_qrels.tsv', 'TATQA_qrels.tsv', 'finqabench_corpus.jsonl', 'finder_corpus.jsonl', 'tatqa_corpus.jsonl', 'tatqa_queries.jsonl', 'multiheirtt_corpus.jsonl', 'convfinqa_corpus.jsonl', 'finqa_queries.jsonl', 'multiheirtt_queries.jsonl', 'finqa_corpus.jsonl', 'financebench_queries.jsonl', 'FinQA_qrels.tsv', 'FinQABench_qrels.tsv', 'sample_submission_.csv', 'MultiHeirtt_qrels.tsv', 'finder_queries.jsonl', 'financebench_corpus.jsonl', 'finqabench_queries.jsonl']\n"
     ]
    }
   ],
   "source": [
    "data_dir = Path.cwd().parent / 'data'\n",
    "print(os.listdir(data_dir))"
   ]
  },
  {
   "cell_type": "code",
   "execution_count": 13,
   "metadata": {},
   "outputs": [],
   "source": [
    "finq_bench_corpus_path = data_dir / 'finqabench_corpus.jsonl/corpus.jsonl'\n",
    "finq_bench_query_path = data_dir / 'finqabench_queries.jsonl/queries.jsonl'\n",
    "finq_bench_tsv_path = data_dir / 'FinQABench_qrels.tsv'"
   ]
  },
  {
   "cell_type": "code",
   "execution_count": 26,
   "metadata": {},
   "outputs": [
    {
     "data": {
      "text/html": [
       "<div>\n",
       "<style scoped>\n",
       "    .dataframe tbody tr th:only-of-type {\n",
       "        vertical-align: middle;\n",
       "    }\n",
       "\n",
       "    .dataframe tbody tr th {\n",
       "        vertical-align: top;\n",
       "    }\n",
       "\n",
       "    .dataframe thead th {\n",
       "        text-align: right;\n",
       "    }\n",
       "</style>\n",
       "<table border=\"1\" class=\"dataframe\">\n",
       "  <thead>\n",
       "    <tr style=\"text-align: right;\">\n",
       "      <th></th>\n",
       "      <th>_id</th>\n",
       "      <th>title</th>\n",
       "      <th>text</th>\n",
       "    </tr>\n",
       "  </thead>\n",
       "  <tbody>\n",
       "    <tr>\n",
       "      <th>0</th>\n",
       "      <td>d4aa0660c</td>\n",
       "      <td></td>\n",
       "      <td>Apple Inc.\\nCONSOLIDATED STATEMENTS OF OPERATI...</td>\n",
       "    </tr>\n",
       "    <tr>\n",
       "      <th>1</th>\n",
       "      <td>d4aa04834</td>\n",
       "      <td></td>\n",
       "      <td>to \\ncover all losses or all types of claims ...</td>\n",
       "    </tr>\n",
       "    <tr>\n",
       "      <th>2</th>\n",
       "      <td>d4aa01288</td>\n",
       "      <td></td>\n",
       "      <td>The Company’s operations are also subject to t...</td>\n",
       "    </tr>\n",
       "    <tr>\n",
       "      <th>3</th>\n",
       "      <td>d4aa0a270</td>\n",
       "      <td></td>\n",
       "      <td>such election by written consent, other than ...</td>\n",
       "    </tr>\n",
       "    <tr>\n",
       "      <th>4</th>\n",
       "      <td>d4aa09b4a</td>\n",
       "      <td></td>\n",
       "      <td>rant, dated as of August 20, 2020, including \\...</td>\n",
       "    </tr>\n",
       "  </tbody>\n",
       "</table>\n",
       "</div>"
      ],
      "text/plain": [
       "         _id title                                               text\n",
       "0  d4aa0660c        Apple Inc.\\nCONSOLIDATED STATEMENTS OF OPERATI...\n",
       "1  d4aa04834         to \\ncover all losses or all types of claims ...\n",
       "2  d4aa01288        The Company’s operations are also subject to t...\n",
       "3  d4aa0a270         such election by written consent, other than ...\n",
       "4  d4aa09b4a        rant, dated as of August 20, 2020, including \\..."
      ]
     },
     "execution_count": 26,
     "metadata": {},
     "output_type": "execute_result"
    }
   ],
   "source": [
    "finq_bench_corpus = pd.read_json(finq_bench_corpus_path, lines=True)\n",
    "finq_bench_queries = pd.read_json(finq_bench_query_path, lines=True)\n",
    "finq_bench_corpus.head()"
   ]
  },
  {
   "cell_type": "code",
   "execution_count": 20,
   "metadata": {},
   "outputs": [],
   "source": [
    "def create_documents(df):\n",
    "    documents = []\n",
    "    for idx,row in df.iterrows():\n",
    "        _ = Document(\n",
    "            text=row['text'], \n",
    "            metadata={'_id' : row['_id'], 'title' : row['title']}\n",
    "            )\n",
    "        documents.append(_)\n",
    "    return documents"
   ]
  },
  {
   "cell_type": "code",
   "execution_count": 22,
   "metadata": {},
   "outputs": [],
   "source": [
    "finq_bench_documents = create_documents(finq_bench_corpus)"
   ]
  },
  {
   "cell_type": "code",
   "execution_count": 23,
   "metadata": {},
   "outputs": [],
   "source": [
    "# Create FaisVectorStore to store embeddings\n",
    "fais_index = faiss.IndexFlatL2(EMBED_DIMENSION)\n",
    "vector_store = FaissVectorStore(faiss_index=fais_index)\n",
    "\n",
    "base_pipeline = IngestionPipeline(\n",
    "    transformations=[SentenceSplitter()],\n",
    "    vector_store=vector_store,\n",
    "    documents=finq_bench_documents\n",
    ")\n",
    "\n",
    "nodes = base_pipeline.run()"
   ]
  },
  {
   "cell_type": "code",
   "execution_count": 29,
   "metadata": {},
   "outputs": [
    {
     "data": {
      "text/plain": [
       "['What is the redemption price for the 0.875% 2025 Notes and the 1.375% 2029 Notes if they are redeemed prior to the applicable Par Call Date?',\n",
       " 'What is the maturity date of the 0.875% 2025 Notes issued by Apple Inc.?',\n",
       " 'What are the conditions under which the Company is not required to make any payment for any Tax imposed by any government or a political subdivision or taxing authority of or in any government or political subdivision?',\n",
       " \"What is the Company's investment policy and strategy focused on?\",\n",
       " \"What is the purpose of the Company's internal control over financial reporting?\",\n",
       " 'What was the net income for Apple Inc. in 2020?',\n",
       " \"What is the Company's fiscal year and how does it align with calendar quarters?\",\n",
       " \"What risks may the COVID-19 pandemic pose to the Company's operational and financial performance?\",\n",
       " 'What is the total net deferred tax assets as of September 24, 2022?',\n",
       " 'Who signed the Annual Report on Form 10-K on behalf of the Registrant on October 27, 2022?',\n",
       " 'What is the Exhibit Number referenced in the Apple Inc. 2022 Form 10-K filing on page 57?',\n",
       " 'What challenges has the COVID-19 pandemic posed to the Company in terms of production and digital content costs?',\n",
       " 'What is the balance of the deemed repatriation tax payable imposed by the U.S. Tax Cuts and Jobs Act of 2017 as of September 24, 2022?',\n",
       " \"What factors can impact the Company's future gross margins?\",\n",
       " 'What is the total unrecognized compensation cost related to outstanding RSUs and stock options as of September 24, 2022?',\n",
       " 'What could happen if the Company is unable to nurture its culture?',\n",
       " 'What is the minimum denomination for the 2022 Notes, the 2024 Notes, the 0.000% 2025 Notes, the 0.875% 2025 Notes, the 2026 Notes, the 2027 Notes, the 1.375% 2029 Notes and the 2031 Notes?',\n",
       " \"What was the total shareholders' equity at the end of 2022, according to the Consolidated Statements of Shareholders' Equity?\",\n",
       " 'What is the proportion of net sales by disaggregated revenue source for each reportable segment in Note 11 for 2022, 2021 and 2020?',\n",
       " \"What are the interest rates and due years for the notes included in the Officer's Certificate dated May 6, 2014?\",\n",
       " 'What measures are taken by the Company to secure confidential information provided to or accessible by third parties?',\n",
       " \"What was the weighted-average interest rate of the Company's Commercial Paper as of September 24, 2022 and September 25, 2021, respectively?\",\n",
       " 'What risks does the Company face in managing the transition to new and upgraded products and services?',\n",
       " \"What is the total fair value of the Company's non-current marketable debt securities as of September 24, 2022?\",\n",
       " 'What is the definition of \"Comparable Government Bond\" in relation to the 0.000% 2025 Notes, the 0.875% 2025 Notes, the 1.375% 2029 Notes and the 2031 Notes?',\n",
       " \"What procedures did Ernst & Young LLP use to evaluate Apple Inc.'s assessment of which tax positions are more likely than not to be sustained?\",\n",
       " \"What is the maximum one-day loss in fair value of the Company's foreign currency derivative positions estimated with 95% confidence as of September 24, 2022?\",\n",
       " 'What is the obligation to pay Additional Amounts not applicable to?',\n",
       " 'What is the purpose of the certification provided in Exhibit 31.1 of the Apple Inc. 10-K report for the year 2022?',\n",
       " 'What are the main competitive factors that Apple Inc. must consider when introducing new products and services?',\n",
       " 'What is the rate of conversion for payments in respect of the 2022 Notes, the 2024 Notes, the 0.000% 2025 Notes, the 0.875% 2025 Notes, the 2026 Notes, the 2027 Notes, the 1.375% 2029 Notes and the 2031 Notes?',\n",
       " 'What is the date of the report referenced in the document?',\n",
       " \"What is the total fair value of the Company's derivative assets and liabilities as of September 24, 2022?\",\n",
       " 'What is the title of Item 7 in Part II of the Apple Inc. Form 10-K for the Fiscal Year Ended September 24, 2022?',\n",
       " 'What is the Form of Restricted Stock Unit Award Agreement under 2022 Employee Stock Plan effective as of March 4, 2022?',\n",
       " 'What measures does the Company take to protect the safety and security of its team members, visitors and customers?',\n",
       " 'What was the total comprehensive income for Apple Inc. in 2020?',\n",
       " 'What was the total net sales increase in 2022 compared to 2021?',\n",
       " 'What was the total other income/(expense), net for 2020?',\n",
       " \"What potential liabilities, increased costs, and other adverse effects on the Company's business may arise from its global operations being subject to complex and changing laws and regulations?\",\n",
       " \"What are the forms of global notes represented in the Officer's Certificate of the Registrant dated as of February 9, 2017?\",\n",
       " \"What are the potential effects of adverse macroeconomic conditions on the Company's operations and performance?\",\n",
       " 'What is the interest rate of the 2027 Notes?',\n",
       " 'What is the outcome of the lawsuit filed by Epic Games against the Company in the U.S. District Court for the Northern District of California?',\n",
       " 'What was the total cash paid for income taxes, net in 2022?',\n",
       " 'What changes can be made to the Indentures and any series of Notes without the consent of any holders?',\n",
       " \"What is the opinion of Ernst & Young LLP on Apple Inc.'s internal control over financial reporting as of September 24, 2022?\",\n",
       " 'What is Rule 10b5-1 Trading Plans?',\n",
       " 'What are the costs excluded from segment operating income according to the provided context?',\n",
       " \"What is the total fair value of the Company's cash, cash equivalents and marketable securities as of September 24, 2022?\",\n",
       " \"What standards were used to audit Apple Inc.'s financial statements for the period ended September 24, 2022?\",\n",
       " 'What risks does Apple Inc. face due to global climate change?',\n",
       " \"What percentage of the Company's net sales in 2022, 2021 and 2020 were from the U.S. and China?\",\n",
       " 'What are the primary markets that Apple Inc. targets for its products and services?',\n",
       " 'What was the total amount of gross unrecognized tax benefits as of September 24, 2022?',\n",
       " 'What is the total marketable securities included in the State Aid Decision and other agreements as of September 24, 2022 and September 25, 2021?',\n",
       " 'What were the total shares withheld for 2022, 2021, and 2020, respectively?',\n",
       " \"What is the Company's line of personal computers based on its macOS operating system and what does it include?\",\n",
       " 'What is the aggregate market value of the voting and non-voting stock held by non-affiliates of the Registrant, as of March 25, 2022?',\n",
       " 'What is the minimum percentage of outstanding debt securities of a series required to request the trustee to institute proceedings in respect of an event of default under the 2013 Indenture?',\n",
       " 'What potential risks could Apple Inc. face if investigations into its App Store business result in adverse findings?',\n",
       " 'What are the two types of fair value estimates mentioned and their bases?\\n',\n",
       " 'What is the maximum number of shares authorized for issuance under the 2022 Employee Stock Plan?',\n",
       " 'What potential risks does the Company face in regards to third-party intellectual property?',\n",
       " 'What is the date of the certification of the Chief Executive Officer and Chief Financial Officer of Apple Inc. as stated in the document?',\n",
       " \"What are the forms of global notes included in the Officer's Certificate of the Registrant dated as of August 8, 2022?\",\n",
       " 'What is the definition of \"U.S. government obligations\" with respect to the 2022 Notes, the 2024 Notes, the 0.000% 2025 Notes, the 0.875% 2025 Notes, the 2026 Notes, the 2027 Notes, the 1.375% 2029 Notes and the 2031 Notes?',\n",
       " 'What is the total amount of gross unrecognized tax benefits as of September 24, 2022?',\n",
       " \"What factors may influence third-party developers' decisions to develop and maintain software applications and services for the Company's products?\",\n",
       " \"What are the potential changes to the Company's effective tax rates?\",\n",
       " 'What is the index to the consolidated financial statements page in the document?',\n",
       " 'What is the total current assets of Apple Inc. as of September 24, 2022?',\n",
       " 'What was the cumulative total return of Apple Inc. on September 24, 2022?',\n",
       " 'What is the jurisdiction of incorporation of Apple South Asia (Thailand) Limited?',\n",
       " 'What is the PCAOB Firm ID Number of Ernst & Young LLP?',\n",
       " 'What was the total foreign provision for income taxes in 2020?',\n",
       " 'What risks does the Company face due to industrial accidents at its suppliers and contract manufacturers?',\n",
       " 'What is the covenant contained in all of the Notes regarding Additional Amounts?',\n",
       " 'What caused the increase in Mac net sales during 2022 compared to 2021?',\n",
       " \"What are the three performance obligations regularly included in arrangements involving the sale of iPhone, Mac, iPad, and certain other products according to Apple Inc.'s revenue recognition policy?\",\n",
       " 'What financial strategy did the Company use to manage interest rate and foreign currency risk on its notes?',\n",
       " 'What are the conditions that must be satisfied for a consolidation, merger, or sale of assets to occur according to the Indentures?',\n",
       " 'What is the fiscal year end date for the annual report filed by Apple Inc. for the SEC?',\n",
       " 'What risks does the Company face if suppliers decide to concentrate on the production of common components instead of components customized to meet the Company’s requirements?',\n",
       " 'What is the maximum number of shares authorized for issuance under the Director Plan at the time the plan was last amended on November 9, 2021?',\n",
       " \"What risks and costs may increase as the Company's products and services are introduced into specialized applications, including health and financial services?\",\n",
       " 'What actions can be taken with respect to the 2018 Indenture regarding the provisions of one or more series of debt securities?',\n",
       " \"What is the Company's policy regarding unbilled consideration related to long-term service arrangements?\",\n",
       " 'What was the aggregate principal amount of the 2026 Notes outstanding as of October 14, 2022?',\n",
       " 'What were the fixed cash payments related to operating leases in 2020?',\n",
       " 'What is the voting requirement for the election of directors in Apple Inc.?',\n",
       " 'What is the total lease liabilities as of September 24, 2022?',\n",
       " 'What is the accounting treatment for derivative gains and losses based on intended use and hedge designation?',\n",
       " 'What is the responsibility of Luca Maestri and the other certifying officers with regards to the financial statements and other financial information included in the report?',\n",
       " 'What was the net sales increase in the Americas segment during 2022 compared to 2021?',\n",
       " \"What risks are associated with the Company's investment in new business strategies and acquisitions?\",\n",
       " 'What percentage of outstanding shares must vote against an amendment of the Bylaws or the Articles reducing the fixed number or the minimum number of directors to less than five in order for it to not be adopted?',\n",
       " \"What is the minimum percentage of shares required for a shareholder to nominate director nominees constituting up to 20% of the Company's Board of Directors?\",\n",
       " 'What was the approximate dollar value of shares that may yet be purchased under the Program as of September 24, 2022?',\n",
       " 'What is the \"Par Call Date\" for the 0.875% 2025 Notes?']"
      ]
     },
     "execution_count": 29,
     "metadata": {},
     "output_type": "execute_result"
    }
   ],
   "source": [
    "finq_bench_queries.text.tolist()"
   ]
  },
  {
   "cell_type": "code",
   "execution_count": 32,
   "metadata": {},
   "outputs": [
    {
     "name": "stdout",
     "output_type": "stream",
     "text": [
      "Context information is below.\n",
      "---------------------\n",
      "_id: d4aa0a52c\n",
      "title:\n",
      "\n",
      "the maturity date of the 0.875% 2025 Notes), (iii) with respect to the 1.375% 2029 Notes, February \n",
      "24, 2029 (three months prior to the maturity date of 1.375% 2029 Notes) and (iv) with respect to the 2031 Notes, \n",
      "August 15, 2031 (three months prior to the maturity of the 2031 Notes).\n",
      "7\n",
      "\n",
      "_id: d4aa0b1f2\n",
      "title:\n",
      "\n",
      "000% 2025 Notes, the 0.875% 2025 Notes, the 1.375% 2029 Notes and the 2031 \n",
      "Notes at our option, at any time in whole or from time to time in part, prior to the applicable Par Call Date at a \n",
      "redemption price equal to the greater of: \n",
      "•100% of the principal amount of the Notes to be redeemed; or \n",
      "•the sum of the present values of the remaining scheduled payments of principal and interest thereon \n",
      "assuming that the Notes matured on the applicable Par Call Date (not including any portion of such \n",
      "payments of interest accrued as of the date of redemption), discounted to the date of redemption on an \n",
      "annual basis (ACTUAL/ACTUAL (ICMA)) at the applicable Comparable Government Bond Rate (as \n",
      "defined below), plus 10 basis points in the case of the 0.000% 2025 Notes, plus 15 basis points in the \n",
      "case of the 0.875% 2025 Notes and the 2031 Notes, and 20 basis points in the case of the 2029 Notes. \n",
      "“Par Call Date” means (i) with respect to the 0.000% 2025 Notes, August 15, 2025 (three months prior to the \n",
      "maturity date of the 0.000% 2025 Notes), (ii) with respect to the 0.875% 2025 Notes, February 24, 2025 (three \n",
      "months prior to the maturity date of the 0.875% 2025 Notes), (iii) with respect to the 1.375% 2029 Notes, February \n",
      "24, 2029 (three months prior to the maturity date of 1.375% 2029 Notes) and (iv) with respect to the 2031 Notes, \n",
      "August 15, 2031 (three months prior to the maturity of the 2031 Notes).\n",
      "7\n",
      "\n",
      "_id: d4aa0a7d4\n",
      "title:\n",
      "\n",
      "The 2027 Notes\n",
      "We issued €1,000,000,000 aggregate principal amount of the 2027 Notes on September 17, 2015. The \n",
      "maturity date of the 2027 Notes is September 17, 2027, and interest at a rate of 2.000% per annum is paid annually \n",
      "on September 17 of each year, beginning on September 17, 2016, and on the maturity date. As of October 14, 2022 , \n",
      "€1,000,000,000  aggregate principal amount of the 2027 Notes was outstanding.\n",
      "The 1.375% 2029 Notes\n",
      "We issued €1,250,000,000 aggregate principal amount of the 1.375% 2029 Notes on May 24, 2017. The \n",
      "maturity date of the 1.375% 2029 Notes is May 24, 2029, and interest at a rate of 1.375% per annum is paid annually \n",
      "on May 24 of each year,\n",
      "\n",
      "_id: d4aa0a66c\n",
      "title:\n",
      "\n",
      "We issued €1,400,000,000 aggregate principal amount of the 2026 Notes on November 10, 2014. The \n",
      "maturity date of the 2026 Notes is November 10, 2026, and interest at a rate of 1.625% per annum is paid annually \n",
      "on November 10 of each year, beginning on November 10, 2015, and on the maturity date. As of October 14, 2022 , \n",
      "€1,400,000,000  aggregate principal amount of the 2026 Notes was outstanding.\n",
      "3\n",
      "\n",
      "_id: d4aa0985c\n",
      "title:\n",
      "\n",
      ".100% Notes due 2062.8-K 4.1 8/8/22Incorporated by Reference\n",
      "Exhibit \n",
      "Number Exhibit Description Form ExhibitFiling Date/\n",
      "Period End \n",
      "Date\n",
      "Apple Inc. | 2022  Form 10-K | 56\n",
      "---------------------\n",
      "Given the context information and not prior knowledge, answer the query.\n",
      "Query: What is the maturity date of the 0.875% 2025 Notes issued by Apple Inc.?\n",
      "Answer: \n"
     ]
    }
   ],
   "source": [
    "# Create vector index from base nodes\n",
    "index = VectorStoreIndex(nodes)\n",
    "\n",
    "query_engine_w_cross_encoder = index.as_query_engine(\n",
    "    similarity_top_k=10,\n",
    "    node_postprocessors=[\n",
    "        SentenceTransformerRerank(\n",
    "            model='cross-encoder/ms-marco-MiniLM-L-6-v2',\n",
    "            top_n=5\n",
    "        )\n",
    "    ],\n",
    ")\n",
    "\n",
    "resp = query_engine_w_cross_encoder.query(\"What is the maturity date of the 0.875% 2025 Notes issued by Apple Inc.?\")\n",
    "print(resp)"
   ]
  }
 ],
 "metadata": {
  "kernelspec": {
   "display_name": "Python 3.11.10 ('fin_env')",
   "language": "python",
   "name": "python3"
  },
  "language_info": {
   "codemirror_mode": {
    "name": "ipython",
    "version": 3
   },
   "file_extension": ".py",
   "mimetype": "text/x-python",
   "name": "python",
   "nbconvert_exporter": "python",
   "pygments_lexer": "ipython3",
   "version": "3.11.10"
  },
  "orig_nbformat": 4,
  "vscode": {
   "interpreter": {
    "hash": "24178e9080b9111c74efca0fe0e59b8013241aff9e5d7780cefaf674cfabb6e8"
   }
  }
 },
 "nbformat": 4,
 "nbformat_minor": 2
}
