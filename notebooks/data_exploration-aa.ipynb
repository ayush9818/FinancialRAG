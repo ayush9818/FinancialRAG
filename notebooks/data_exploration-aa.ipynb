{
 "cells": [
  {
   "cell_type": "code",
   "execution_count": 27,
   "metadata": {},
   "outputs": [],
   "source": [
    "import os\n",
    "import pandas as pd\n",
    "from pathlib import Path\n",
    "import json\n",
    "import matplotlib.pyplot as plt"
   ]
  },
  {
   "cell_type": "markdown",
   "metadata": {},
   "source": [
    "#### Datasets List \n",
    "\n",
    "- **FinQABench**: Focuses on testing AI models' ability to answer Search Queries over 10-K Reports with accuracy, evaluating the system's ability to detect hallucinations and ensure factual correctness in generated answers.\n",
    "- **FinanceBench**: Uses Natural Queries to retrieve relevant information from public filings like 10-K and Annual Reports. The aim is to evaluate how well systems handle straightforward, real-world financial questions.\n",
    "- **TATQA**: Requires participants to answer Natural Queries that involve numerical reasoning over hybrid data, which combines tables and text from Financial Reports. Tasks include basic arithmetic, comparisons, and logical reasoning.\n",
    "- **MultiHiertt**: Focuses on Multi-Hop Queries, requiring participants to retrieve and reason over hierarchical tables and unstructured text from Annual Reports, making this one of the more complex reasoning tasks involving multiple steps across various document sections."
   ]
  },
  {
   "cell_type": "code",
   "execution_count": 3,
   "metadata": {},
   "outputs": [
    {
     "data": {
      "text/plain": [
       "['convfinqa_queries.jsonl',\n",
       " 'ConvFinQA_qrels.tsv',\n",
       " 'FinanceBench_qrels.tsv',\n",
       " 'FinDER_qrels.tsv',\n",
       " 'TATQA_qrels.tsv',\n",
       " 'finqabench_corpus.jsonl',\n",
       " 'finder_corpus.jsonl',\n",
       " 'tatqa_corpus.jsonl',\n",
       " 'tatqa_queries.jsonl',\n",
       " 'multiheirtt_corpus.jsonl',\n",
       " 'convfinqa_corpus.jsonl',\n",
       " 'finqa_queries.jsonl',\n",
       " 'multiheirtt_queries.jsonl',\n",
       " 'finqa_corpus.jsonl',\n",
       " 'financebench_queries.jsonl',\n",
       " 'FinQA_qrels.tsv',\n",
       " 'FinQABench_qrels.tsv',\n",
       " 'sample_submission_.csv',\n",
       " 'MultiHeirtt_qrels.tsv',\n",
       " 'finder_queries.jsonl',\n",
       " 'financebench_corpus.jsonl',\n",
       " 'finqabench_queries.jsonl']"
      ]
     },
     "execution_count": 3,
     "metadata": {},
     "output_type": "execute_result"
    }
   ],
   "source": [
    "data_dir = Path.cwd().parent / 'data'\n",
    "os.listdir(data_dir)"
   ]
  },
  {
   "cell_type": "markdown",
   "metadata": {},
   "source": [
    "#### FinQABench"
   ]
  },
  {
   "cell_type": "code",
   "execution_count": 6,
   "metadata": {},
   "outputs": [],
   "source": [
    "finqa_bench_corpus_path = data_dir / 'finqabench_corpus.jsonl/corpus.jsonl'\n",
    "finqa_bench_query_path = data_dir / 'finqabench_queries.jsonl/queries.jsonl'\n",
    "finqa_bench_tsv_path = data_dir / 'FinQABench_qrels.tsv'"
   ]
  },
  {
   "cell_type": "code",
   "execution_count": 42,
   "metadata": {},
   "outputs": [
    {
     "name": "stdout",
     "output_type": "stream",
     "text": [
      "Total Documents in FinQA Bench Dataset : 92\n"
     ]
    },
    {
     "data": {
      "text/html": [
       "<div>\n",
       "<style scoped>\n",
       "    .dataframe tbody tr th:only-of-type {\n",
       "        vertical-align: middle;\n",
       "    }\n",
       "\n",
       "    .dataframe tbody tr th {\n",
       "        vertical-align: top;\n",
       "    }\n",
       "\n",
       "    .dataframe thead th {\n",
       "        text-align: right;\n",
       "    }\n",
       "</style>\n",
       "<table border=\"1\" class=\"dataframe\">\n",
       "  <thead>\n",
       "    <tr style=\"text-align: right;\">\n",
       "      <th></th>\n",
       "      <th>_id</th>\n",
       "      <th>title</th>\n",
       "      <th>text</th>\n",
       "    </tr>\n",
       "  </thead>\n",
       "  <tbody>\n",
       "    <tr>\n",
       "      <th>0</th>\n",
       "      <td>d4aa0660c</td>\n",
       "      <td></td>\n",
       "      <td>Apple Inc.\\nCONSOLIDATED STATEMENTS OF OPERATI...</td>\n",
       "    </tr>\n",
       "    <tr>\n",
       "      <th>1</th>\n",
       "      <td>d4aa04834</td>\n",
       "      <td></td>\n",
       "      <td>to \\ncover all losses or all types of claims ...</td>\n",
       "    </tr>\n",
       "    <tr>\n",
       "      <th>2</th>\n",
       "      <td>d4aa01288</td>\n",
       "      <td></td>\n",
       "      <td>The Company’s operations are also subject to t...</td>\n",
       "    </tr>\n",
       "    <tr>\n",
       "      <th>3</th>\n",
       "      <td>d4aa0a270</td>\n",
       "      <td></td>\n",
       "      <td>such election by written consent, other than ...</td>\n",
       "    </tr>\n",
       "    <tr>\n",
       "      <th>4</th>\n",
       "      <td>d4aa09b4a</td>\n",
       "      <td></td>\n",
       "      <td>rant, dated as of August 20, 2020, including \\...</td>\n",
       "    </tr>\n",
       "  </tbody>\n",
       "</table>\n",
       "</div>"
      ],
      "text/plain": [
       "         _id title                                               text\n",
       "0  d4aa0660c        Apple Inc.\\nCONSOLIDATED STATEMENTS OF OPERATI...\n",
       "1  d4aa04834         to \\ncover all losses or all types of claims ...\n",
       "2  d4aa01288        The Company’s operations are also subject to t...\n",
       "3  d4aa0a270         such election by written consent, other than ...\n",
       "4  d4aa09b4a        rant, dated as of August 20, 2020, including \\..."
      ]
     },
     "execution_count": 42,
     "metadata": {},
     "output_type": "execute_result"
    }
   ],
   "source": [
    "finqa_bench_corpus = pd.read_json(finqa_bench_corpus_path, lines=True)\n",
    "print(\"Total Documents in FinQA Bench Dataset :\", finqa_bench_corpus.shape[0])\n",
    "finqa_bench_corpus.head()"
   ]
  },
  {
   "cell_type": "code",
   "execution_count": 47,
   "metadata": {},
   "outputs": [],
   "source": [
    "# Add Sequence Len to the corpuse\n",
    "finqa_bench_corpus['seq_len'] = finqa_bench_corpus['text'].apply(lambda x : len(x.split(' ')))"
   ]
  },
  {
   "cell_type": "code",
   "execution_count": 48,
   "metadata": {},
   "outputs": [
    {
     "data": {
      "text/plain": [
       "Text(0.5, 1.0, 'Distribution of Seq Length for FinQA Bench Corpus Dataset')"
      ]
     },
     "execution_count": 48,
     "metadata": {},
     "output_type": "execute_result"
    },
    {
     "data": {
      "image/png": "[encoded data removed]",
      "text/plain": [
       "<Figure size 640x480 with 1 Axes>"
      ]
     },
     "metadata": {},
     "output_type": "display_data"
    }
   ],
   "source": [
    "finqa_bench_corpus['seq_len'].hist(bins=30)\n",
    "plt.xlabel(\"Sequence Len\")\n",
    "plt.ylabel(\"Sequence Count\")\n",
    "plt.title(\"Distribution of Seq Length for FinQA Bench Corpus Dataset\")"
   ]
  },
  {
   "cell_type": "code",
   "execution_count": 40,
   "metadata": {},
   "outputs": [],
   "source": [
    "for title in finqa_bench_corpus.title.tolist():\n",
    "    if len(title) > 0:\n",
    "        print(title)"
   ]
  },
  {
   "cell_type": "code",
   "execution_count": 43,
   "metadata": {},
   "outputs": [
    {
     "name": "stdout",
     "output_type": "stream",
     "text": [
      "Total Queries in FinQA Bench Dataste: 100\n"
     ]
    },
    {
     "data": {
      "text/html": [
       "<div>\n",
       "<style scoped>\n",
       "    .dataframe tbody tr th:only-of-type {\n",
       "        vertical-align: middle;\n",
       "    }\n",
       "\n",
       "    .dataframe tbody tr th {\n",
       "        vertical-align: top;\n",
       "    }\n",
       "\n",
       "    .dataframe thead th {\n",
       "        text-align: right;\n",
       "    }\n",
       "</style>\n",
       "<table border=\"1\" class=\"dataframe\">\n",
       "  <thead>\n",
       "    <tr style=\"text-align: right;\">\n",
       "      <th></th>\n",
       "      <th>_id</th>\n",
       "      <th>title</th>\n",
       "      <th>text</th>\n",
       "    </tr>\n",
       "  </thead>\n",
       "  <tbody>\n",
       "    <tr>\n",
       "      <th>0</th>\n",
       "      <td>q4aa0b116</td>\n",
       "      <td></td>\n",
       "      <td>What is the redemption price for the 0.875% 20...</td>\n",
       "    </tr>\n",
       "    <tr>\n",
       "      <th>1</th>\n",
       "      <td>q4aa0a48c</td>\n",
       "      <td></td>\n",
       "      <td>What is the maturity date of the 0.875% 2025 N...</td>\n",
       "    </tr>\n",
       "    <tr>\n",
       "      <th>2</th>\n",
       "      <td>q4aa0aeb4</td>\n",
       "      <td></td>\n",
       "      <td>What are the conditions under which the Compan...</td>\n",
       "    </tr>\n",
       "    <tr>\n",
       "      <th>3</th>\n",
       "      <td>q4aa05fa4</td>\n",
       "      <td></td>\n",
       "      <td>What is the Company's investment policy and st...</td>\n",
       "    </tr>\n",
       "    <tr>\n",
       "      <th>4</th>\n",
       "      <td>q4aa092f8</td>\n",
       "      <td></td>\n",
       "      <td>What is the purpose of the Company's internal ...</td>\n",
       "    </tr>\n",
       "  </tbody>\n",
       "</table>\n",
       "</div>"
      ],
      "text/plain": [
       "         _id title                                               text\n",
       "0  q4aa0b116        What is the redemption price for the 0.875% 20...\n",
       "1  q4aa0a48c        What is the maturity date of the 0.875% 2025 N...\n",
       "2  q4aa0aeb4        What are the conditions under which the Compan...\n",
       "3  q4aa05fa4        What is the Company's investment policy and st...\n",
       "4  q4aa092f8        What is the purpose of the Company's internal ..."
      ]
     },
     "execution_count": 43,
     "metadata": {},
     "output_type": "execute_result"
    }
   ],
   "source": [
    "finqa_bench_query = pd.read_json(finqa_bench_query_path, lines=True)\n",
    "print(\"Total Queries in FinQA Bench Dataste:\", finqa_bench_query.shape[0])\n",
    "finqa_bench_query.head()"
   ]
  },
  {
   "cell_type": "code",
   "execution_count": 44,
   "metadata": {},
   "outputs": [],
   "source": [
    "finqa_bench_query['seq_len'] = finqa_bench_query['text'].apply(lambda x : len(x.split(' ')))"
   ]
  },
  {
   "cell_type": "code",
   "execution_count": 49,
   "metadata": {},
   "outputs": [
    {
     "data": {
      "text/plain": [
       "Text(0.5, 1.0, 'Distribution of Seq Length for FinQA Bench Query Dataset')"
      ]
     },
     "execution_count": 49,
     "metadata": {},
     "output_type": "execute_result"
    },
    {
     "data": {
      "image/png": "[encoded data removed]",
      "text/plain": [
       "<Figure size 640x480 with 1 Axes>"
      ]
     },
     "metadata": {},
     "output_type": "display_data"
    }
   ],
   "source": [
    "finqa_bench_query['seq_len'].hist(bins=30)\n",
    "plt.xlabel(\"Sequence Len\")\n",
    "plt.ylabel(\"Sequence Count\")\n",
    "plt.title(\"Distribution of Seq Length for FinQA Bench Query Dataset\")"
   ]
  },
  {
   "cell_type": "code",
   "execution_count": 50,
   "metadata": {},
   "outputs": [
    {
     "name": "stdout",
     "output_type": "stream",
     "text": [
      "Number of Ground Truth Data in FinQA Bench Dataset: 30\n"
     ]
    },
    {
     "data": {
      "text/html": [
       "<div>\n",
       "<style scoped>\n",
       "    .dataframe tbody tr th:only-of-type {\n",
       "        vertical-align: middle;\n",
       "    }\n",
       "\n",
       "    .dataframe tbody tr th {\n",
       "        vertical-align: top;\n",
       "    }\n",
       "\n",
       "    .dataframe thead th {\n",
       "        text-align: right;\n",
       "    }\n",
       "</style>\n",
       "<table border=\"1\" class=\"dataframe\">\n",
       "  <thead>\n",
       "    <tr style=\"text-align: right;\">\n",
       "      <th></th>\n",
       "      <th>query_id</th>\n",
       "      <th>corpus_id</th>\n",
       "      <th>score</th>\n",
       "    </tr>\n",
       "  </thead>\n",
       "  <tbody>\n",
       "    <tr>\n",
       "      <th>0</th>\n",
       "      <td>q4a9ffea6</td>\n",
       "      <td>d4a9fff3c</td>\n",
       "      <td>1</td>\n",
       "    </tr>\n",
       "    <tr>\n",
       "      <th>1</th>\n",
       "      <td>q4aa001f8</td>\n",
       "      <td>d4aa00266</td>\n",
       "      <td>1</td>\n",
       "    </tr>\n",
       "    <tr>\n",
       "      <th>2</th>\n",
       "      <td>q4aa013c8</td>\n",
       "      <td>d4aa01440</td>\n",
       "      <td>1</td>\n",
       "    </tr>\n",
       "    <tr>\n",
       "      <th>3</th>\n",
       "      <td>q4aa01b02</td>\n",
       "      <td>d4aa01b7a</td>\n",
       "      <td>1</td>\n",
       "    </tr>\n",
       "    <tr>\n",
       "      <th>4</th>\n",
       "      <td>q4aa01e4a</td>\n",
       "      <td>d4aa01ecc</td>\n",
       "      <td>1</td>\n",
       "    </tr>\n",
       "  </tbody>\n",
       "</table>\n",
       "</div>"
      ],
      "text/plain": [
       "    query_id  corpus_id  score\n",
       "0  q4a9ffea6  d4a9fff3c      1\n",
       "1  q4aa001f8  d4aa00266      1\n",
       "2  q4aa013c8  d4aa01440      1\n",
       "3  q4aa01b02  d4aa01b7a      1\n",
       "4  q4aa01e4a  d4aa01ecc      1"
      ]
     },
     "execution_count": 50,
     "metadata": {},
     "output_type": "execute_result"
    }
   ],
   "source": [
    "finqa_bench_gt = pd.read_csv(finqa_bench_tsv_path, sep='\\t')\n",
    "print(\"Number of Ground Truth Data in FinQA Bench Dataset:\", finqa_bench_gt.shape[0])\n",
    "finqa_bench_gt.head()"
   ]
  },
  {
   "cell_type": "code",
   "execution_count": 52,
   "metadata": {},
   "outputs": [
    {
     "name": "stdout",
     "output_type": "stream",
     "text": [
      "Number of Unique Queries: 30\n"
     ]
    }
   ],
   "source": [
    "unique_queries = finqa_bench_gt.query_id.unique()\n",
    "print(\"Number of Unique Queries:\", unique_queries.shape[0])"
   ]
  },
  {
   "cell_type": "markdown",
   "metadata": {},
   "source": [
    "#### Finance Bench"
   ]
  },
  {
   "cell_type": "code",
   "execution_count": 53,
   "metadata": {},
   "outputs": [],
   "source": [
    "finance_bench_corpus_path = data_dir / 'financebench_corpus.jsonl/corpus.jsonl'\n",
    "finance_bench_query_path = data_dir / 'financebench_queries.jsonl/queries.jsonl'\n",
    "finance_bench_tsv_path = data_dir / 'FinanceBench_qrels.tsv'"
   ]
  },
  {
   "cell_type": "code",
   "execution_count": 54,
   "metadata": {},
   "outputs": [
    {
     "name": "stdout",
     "output_type": "stream",
     "text": [
      "Total Documents in Finance Bench Dataset : 180\n"
     ]
    },
    {
     "data": {
      "text/html": [
       "<div>\n",
       "<style scoped>\n",
       "    .dataframe tbody tr th:only-of-type {\n",
       "        vertical-align: middle;\n",
       "    }\n",
       "\n",
       "    .dataframe tbody tr th {\n",
       "        vertical-align: top;\n",
       "    }\n",
       "\n",
       "    .dataframe thead th {\n",
       "        text-align: right;\n",
       "    }\n",
       "</style>\n",
       "<table border=\"1\" class=\"dataframe\">\n",
       "  <thead>\n",
       "    <tr style=\"text-align: right;\">\n",
       "      <th></th>\n",
       "      <th>_id</th>\n",
       "      <th>title</th>\n",
       "      <th>text</th>\n",
       "    </tr>\n",
       "  </thead>\n",
       "  <tbody>\n",
       "    <tr>\n",
       "      <th>0</th>\n",
       "      <td>dd2af2336</td>\n",
       "      <td>PEPSICO_2022_10K</td>\n",
       "      <td>6) Africa, Middle East and South Asia (AMESA),...</td>\n",
       "    </tr>\n",
       "    <tr>\n",
       "      <th>1</th>\n",
       "      <td>dd2acf5c0</td>\n",
       "      <td>BOEING_2022_10K</td>\n",
       "      <td>We derive a significant portion of our revenue...</td>\n",
       "    </tr>\n",
       "    <tr>\n",
       "      <th>2</th>\n",
       "      <td>dd2ad12e4</td>\n",
       "      <td>COCACOLA_2022_10K</td>\n",
       "      <td>THE COCA-COLA COMPANY AND SUBSIDIARIES\\nCONSOL...</td>\n",
       "    </tr>\n",
       "    <tr>\n",
       "      <th>3</th>\n",
       "      <td>dd2af3272</td>\n",
       "      <td>PEPSICO_2022_10K</td>\n",
       "      <td>Note 3 Restructuring and Impairment Charges\\n2...</td>\n",
       "    </tr>\n",
       "    <tr>\n",
       "      <th>4</th>\n",
       "      <td>dd2ade412</td>\n",
       "      <td>LOCKHEEDMARTIN_2020_10K</td>\n",
       "      <td>Table of Contents\\nLockheed Martin Corporation...</td>\n",
       "    </tr>\n",
       "  </tbody>\n",
       "</table>\n",
       "</div>"
      ],
      "text/plain": [
       "         _id                    title  \\\n",
       "0  dd2af2336         PEPSICO_2022_10K   \n",
       "1  dd2acf5c0          BOEING_2022_10K   \n",
       "2  dd2ad12e4        COCACOLA_2022_10K   \n",
       "3  dd2af3272         PEPSICO_2022_10K   \n",
       "4  dd2ade412  LOCKHEEDMARTIN_2020_10K   \n",
       "\n",
       "                                                text  \n",
       "0  6) Africa, Middle East and South Asia (AMESA),...  \n",
       "1  We derive a significant portion of our revenue...  \n",
       "2  THE COCA-COLA COMPANY AND SUBSIDIARIES\\nCONSOL...  \n",
       "3  Note 3 Restructuring and Impairment Charges\\n2...  \n",
       "4  Table of Contents\\nLockheed Martin Corporation...  "
      ]
     },
     "execution_count": 54,
     "metadata": {},
     "output_type": "execute_result"
    }
   ],
   "source": [
    "finance_bench_corpus = pd.read_json(finance_bench_corpus_path, lines=True)\n",
    "print(\"Total Documents in Finance Bench Dataset :\", finance_bench_corpus.shape[0])\n",
    "finance_bench_corpus.head()"
   ]
  },
  {
   "cell_type": "code",
   "execution_count": 75,
   "metadata": {},
   "outputs": [
    {
     "name": "stdout",
     "output_type": "stream",
     "text": [
      "We derive a significant portion of our revenues from a limited number of commercial airlines.\n"
     ]
    }
   ],
   "source": [
    "print(finance_bench_corpus.text.tolist()[1])"
   ]
  },
  {
   "cell_type": "code",
   "execution_count": 55,
   "metadata": {},
   "outputs": [
    {
     "data": {
      "text/html": [
       "<div>\n",
       "<style scoped>\n",
       "    .dataframe tbody tr th:only-of-type {\n",
       "        vertical-align: middle;\n",
       "    }\n",
       "\n",
       "    .dataframe tbody tr th {\n",
       "        vertical-align: top;\n",
       "    }\n",
       "\n",
       "    .dataframe thead th {\n",
       "        text-align: right;\n",
       "    }\n",
       "</style>\n",
       "<table border=\"1\" class=\"dataframe\">\n",
       "  <thead>\n",
       "    <tr style=\"text-align: right;\">\n",
       "      <th></th>\n",
       "      <th>_id</th>\n",
       "      <th>title</th>\n",
       "      <th>text</th>\n",
       "      <th>seq_len</th>\n",
       "    </tr>\n",
       "  </thead>\n",
       "  <tbody>\n",
       "    <tr>\n",
       "      <th>0</th>\n",
       "      <td>dd2af2336</td>\n",
       "      <td>PEPSICO_2022_10K</td>\n",
       "      <td>6) Africa, Middle East and South Asia (AMESA),...</td>\n",
       "      <td>55</td>\n",
       "    </tr>\n",
       "    <tr>\n",
       "      <th>1</th>\n",
       "      <td>dd2acf5c0</td>\n",
       "      <td>BOEING_2022_10K</td>\n",
       "      <td>We derive a significant portion of our revenue...</td>\n",
       "      <td>15</td>\n",
       "    </tr>\n",
       "    <tr>\n",
       "      <th>2</th>\n",
       "      <td>dd2ad12e4</td>\n",
       "      <td>COCACOLA_2022_10K</td>\n",
       "      <td>THE COCA-COLA COMPANY AND SUBSIDIARIES\\nCONSOL...</td>\n",
       "      <td>270</td>\n",
       "    </tr>\n",
       "    <tr>\n",
       "      <th>3</th>\n",
       "      <td>dd2af3272</td>\n",
       "      <td>PEPSICO_2022_10K</td>\n",
       "      <td>Note 3 Restructuring and Impairment Charges\\n2...</td>\n",
       "      <td>216</td>\n",
       "    </tr>\n",
       "    <tr>\n",
       "      <th>4</th>\n",
       "      <td>dd2ade412</td>\n",
       "      <td>LOCKHEEDMARTIN_2020_10K</td>\n",
       "      <td>Table of Contents\\nLockheed Martin Corporation...</td>\n",
       "      <td>150</td>\n",
       "    </tr>\n",
       "  </tbody>\n",
       "</table>\n",
       "</div>"
      ],
      "text/plain": [
       "         _id                    title  \\\n",
       "0  dd2af2336         PEPSICO_2022_10K   \n",
       "1  dd2acf5c0          BOEING_2022_10K   \n",
       "2  dd2ad12e4        COCACOLA_2022_10K   \n",
       "3  dd2af3272         PEPSICO_2022_10K   \n",
       "4  dd2ade412  LOCKHEEDMARTIN_2020_10K   \n",
       "\n",
       "                                                text  seq_len  \n",
       "0  6) Africa, Middle East and South Asia (AMESA),...       55  \n",
       "1  We derive a significant portion of our revenue...       15  \n",
       "2  THE COCA-COLA COMPANY AND SUBSIDIARIES\\nCONSOL...      270  \n",
       "3  Note 3 Restructuring and Impairment Charges\\n2...      216  \n",
       "4  Table of Contents\\nLockheed Martin Corporation...      150  "
      ]
     },
     "execution_count": 55,
     "metadata": {},
     "output_type": "execute_result"
    }
   ],
   "source": [
    "# Add Sequence Len to the corpuse\n",
    "finance_bench_corpus['seq_len'] = finance_bench_corpus['text'].apply(lambda x : len(x.split(' ')))\n",
    "finance_bench_corpus.head()"
   ]
  },
  {
   "cell_type": "code",
   "execution_count": 57,
   "metadata": {},
   "outputs": [
    {
     "data": {
      "text/plain": [
       "Text(0.5, 1.0, 'Distribution of Seq Length for Finance Bench Corpus Dataset')"
      ]
     },
     "execution_count": 57,
     "metadata": {},
     "output_type": "execute_result"
    },
    {
     "data": {
      "image/png": "[encoded data removed]",
      "text/plain": [
       "<Figure size 640x480 with 1 Axes>"
      ]
     },
     "metadata": {},
     "output_type": "display_data"
    }
   ],
   "source": [
    "finance_bench_corpus['seq_len'].hist(bins=50)\n",
    "plt.xlabel(\"Sequence Len\")\n",
    "plt.ylabel(\"Sequence Count\")\n",
    "plt.title(\"Distribution of Seq Length for Finance Bench Corpus Dataset\")"
   ]
  },
  {
   "cell_type": "code",
   "execution_count": 58,
   "metadata": {},
   "outputs": [
    {
     "name": "stdout",
     "output_type": "stream",
     "text": [
      "Total Queries in Finance Bench Dataste: 150\n"
     ]
    },
    {
     "data": {
      "text/html": [
       "<div>\n",
       "<style scoped>\n",
       "    .dataframe tbody tr th:only-of-type {\n",
       "        vertical-align: middle;\n",
       "    }\n",
       "\n",
       "    .dataframe tbody tr th {\n",
       "        vertical-align: top;\n",
       "    }\n",
       "\n",
       "    .dataframe thead th {\n",
       "        text-align: right;\n",
       "    }\n",
       "</style>\n",
       "<table border=\"1\" class=\"dataframe\">\n",
       "  <thead>\n",
       "    <tr style=\"text-align: right;\">\n",
       "      <th></th>\n",
       "      <th>_id</th>\n",
       "      <th>title</th>\n",
       "      <th>text</th>\n",
       "    </tr>\n",
       "  </thead>\n",
       "  <tbody>\n",
       "    <tr>\n",
       "      <th>0</th>\n",
       "      <td>qd2ac917a</td>\n",
       "      <td></td>\n",
       "      <td>What is the FY2019 - FY2020 total revenue grow...</td>\n",
       "    </tr>\n",
       "    <tr>\n",
       "      <th>1</th>\n",
       "      <td>qd2aeff00</td>\n",
       "      <td></td>\n",
       "      <td>Does Paypal have positive working capital base...</td>\n",
       "    </tr>\n",
       "    <tr>\n",
       "      <th>2</th>\n",
       "      <td>qd2acfe6c</td>\n",
       "      <td></td>\n",
       "      <td>How does Boeing's effective tax rate in FY2022...</td>\n",
       "    </tr>\n",
       "    <tr>\n",
       "      <th>3</th>\n",
       "      <td>qd2ad28d8</td>\n",
       "      <td></td>\n",
       "      <td>Using only the information within the balance ...</td>\n",
       "    </tr>\n",
       "    <tr>\n",
       "      <th>4</th>\n",
       "      <td>qd2ac61e6</td>\n",
       "      <td></td>\n",
       "      <td>Among operations, investing, and financing act...</td>\n",
       "    </tr>\n",
       "  </tbody>\n",
       "</table>\n",
       "</div>"
      ],
      "text/plain": [
       "         _id title                                               text\n",
       "0  qd2ac917a        What is the FY2019 - FY2020 total revenue grow...\n",
       "1  qd2aeff00        Does Paypal have positive working capital base...\n",
       "2  qd2acfe6c        How does Boeing's effective tax rate in FY2022...\n",
       "3  qd2ad28d8        Using only the information within the balance ...\n",
       "4  qd2ac61e6        Among operations, investing, and financing act..."
      ]
     },
     "execution_count": 58,
     "metadata": {},
     "output_type": "execute_result"
    }
   ],
   "source": [
    "finance_bench_query = pd.read_json(finance_bench_query_path, lines=True)\n",
    "print(\"Total Queries in Finance Bench Dataste:\", finance_bench_query.shape[0])\n",
    "finance_bench_query.head()"
   ]
  },
  {
   "cell_type": "code",
   "execution_count": 60,
   "metadata": {},
   "outputs": [
    {
     "data": {
      "text/plain": [
       "Text(0.5, 1.0, 'Distribution of Seq Length for Finance Bench Query Dataset')"
      ]
     },
     "execution_count": 60,
     "metadata": {},
     "output_type": "execute_result"
    },
    {
     "data": {
      "image/png": "[encoded data removed]",
      "text/plain": [
       "<Figure size 640x480 with 1 Axes>"
      ]
     },
     "metadata": {},
     "output_type": "display_data"
    }
   ],
   "source": [
    "finance_bench_query['seq_len'] = finance_bench_query['text'].apply(lambda x : len(x.split(' ')))\n",
    "finance_bench_query['seq_len'].hist(bins=30)\n",
    "plt.xlabel(\"Sequence Len\")\n",
    "plt.ylabel(\"Sequence Count\")\n",
    "plt.title(\"Distribution of Seq Length for Finance Bench Query Dataset\")"
   ]
  },
  {
   "cell_type": "code",
   "execution_count": 62,
   "metadata": {},
   "outputs": [
    {
     "name": "stdout",
     "output_type": "stream",
     "text": [
      "Number of Ground Truth Data in FinQA Bench Dataset: 59\n",
      "Number of Unique Queries: 45\n"
     ]
    },
    {
     "data": {
      "text/html": [
       "<div>\n",
       "<style scoped>\n",
       "    .dataframe tbody tr th:only-of-type {\n",
       "        vertical-align: middle;\n",
       "    }\n",
       "\n",
       "    .dataframe tbody tr th {\n",
       "        vertical-align: top;\n",
       "    }\n",
       "\n",
       "    .dataframe thead th {\n",
       "        text-align: right;\n",
       "    }\n",
       "</style>\n",
       "<table border=\"1\" class=\"dataframe\">\n",
       "  <thead>\n",
       "    <tr style=\"text-align: right;\">\n",
       "      <th></th>\n",
       "      <th>query_id</th>\n",
       "      <th>corpus_id</th>\n",
       "      <th>score</th>\n",
       "    </tr>\n",
       "  </thead>\n",
       "  <tbody>\n",
       "    <tr>\n",
       "      <th>0</th>\n",
       "      <td>qd2abb7e6</td>\n",
       "      <td>dd2abb8b8</td>\n",
       "      <td>1</td>\n",
       "    </tr>\n",
       "    <tr>\n",
       "      <th>1</th>\n",
       "      <td>qd2abd0e6</td>\n",
       "      <td>dd2abd17c</td>\n",
       "      <td>1</td>\n",
       "    </tr>\n",
       "    <tr>\n",
       "      <th>2</th>\n",
       "      <td>qd2abd0e6</td>\n",
       "      <td>dd2abd1e0</td>\n",
       "      <td>1</td>\n",
       "    </tr>\n",
       "    <tr>\n",
       "      <th>3</th>\n",
       "      <td>qd2abd6b8</td>\n",
       "      <td>dd2abd1e0</td>\n",
       "      <td>1</td>\n",
       "    </tr>\n",
       "    <tr>\n",
       "      <th>4</th>\n",
       "      <td>qd2abd6b8</td>\n",
       "      <td>dd2abd7b2</td>\n",
       "      <td>1</td>\n",
       "    </tr>\n",
       "  </tbody>\n",
       "</table>\n",
       "</div>"
      ],
      "text/plain": [
       "    query_id  corpus_id  score\n",
       "0  qd2abb7e6  dd2abb8b8      1\n",
       "1  qd2abd0e6  dd2abd17c      1\n",
       "2  qd2abd0e6  dd2abd1e0      1\n",
       "3  qd2abd6b8  dd2abd1e0      1\n",
       "4  qd2abd6b8  dd2abd7b2      1"
      ]
     },
     "execution_count": 62,
     "metadata": {},
     "output_type": "execute_result"
    }
   ],
   "source": [
    "finance_bench_gt = pd.read_csv(finance_bench_tsv_path, sep='\\t')\n",
    "print(\"Number of Ground Truth Data in FinQA Bench Dataset:\", finance_bench_gt.shape[0])\n",
    "unique_queries = finance_bench_gt.query_id.unique()\n",
    "print(\"Number of Unique Queries:\", unique_queries.shape[0])\n",
    "finance_bench_gt.head()"
   ]
  },
  {
   "cell_type": "markdown",
   "metadata": {},
   "source": [
    "#### TATQA"
   ]
  },
  {
   "cell_type": "code",
   "execution_count": 65,
   "metadata": {},
   "outputs": [],
   "source": [
    "tatqa_corpus_path = data_dir / 'tatqa_corpus.jsonl/corpus.jsonl'\n",
    "tatqa_query_path = data_dir / 'tatqa_queries.jsonl/queries.jsonl'\n",
    "tatqa_tsv_path = data_dir / 'TATQA_qrels.tsv'"
   ]
  },
  {
   "cell_type": "code",
   "execution_count": 66,
   "metadata": {},
   "outputs": [
    {
     "name": "stdout",
     "output_type": "stream",
     "text": [
      "Total Documents in TATQA Dataset : 2756\n"
     ]
    },
    {
     "data": {
      "text/html": [
       "<div>\n",
       "<style scoped>\n",
       "    .dataframe tbody tr th:only-of-type {\n",
       "        vertical-align: middle;\n",
       "    }\n",
       "\n",
       "    .dataframe tbody tr th {\n",
       "        vertical-align: top;\n",
       "    }\n",
       "\n",
       "    .dataframe thead th {\n",
       "        text-align: right;\n",
       "    }\n",
       "</style>\n",
       "<table border=\"1\" class=\"dataframe\">\n",
       "  <thead>\n",
       "    <tr style=\"text-align: right;\">\n",
       "      <th></th>\n",
       "      <th>_id</th>\n",
       "      <th>title</th>\n",
       "      <th>text</th>\n",
       "    </tr>\n",
       "  </thead>\n",
       "  <tbody>\n",
       "    <tr>\n",
       "      <th>0</th>\n",
       "      <td>d1b2e74c0</td>\n",
       "      <td></td>\n",
       "      <td>The following tables present the recorded inve...</td>\n",
       "    </tr>\n",
       "    <tr>\n",
       "      <th>1</th>\n",
       "      <td>d1b32cade</td>\n",
       "      <td></td>\n",
       "      <td>NOTE 13. INCOME TAXES\\nWe calculate our provis...</td>\n",
       "    </tr>\n",
       "    <tr>\n",
       "      <th>2</th>\n",
       "      <td>d1b38504e</td>\n",
       "      <td></td>\n",
       "      <td>8. Earnings Per Share\\nBasic earnings per shar...</td>\n",
       "    </tr>\n",
       "    <tr>\n",
       "      <th>3</th>\n",
       "      <td>d1b37e6a4</td>\n",
       "      <td></td>\n",
       "      <td>AMERICAN TOWER CORPORATION AND SUBSIDIARIES NO...</td>\n",
       "    </tr>\n",
       "    <tr>\n",
       "      <th>4</th>\n",
       "      <td>d1b3a8e2c</td>\n",
       "      <td></td>\n",
       "      <td>The tax effects of temporary differences that ...</td>\n",
       "    </tr>\n",
       "  </tbody>\n",
       "</table>\n",
       "</div>"
      ],
      "text/plain": [
       "         _id title                                               text\n",
       "0  d1b2e74c0        The following tables present the recorded inve...\n",
       "1  d1b32cade        NOTE 13. INCOME TAXES\\nWe calculate our provis...\n",
       "2  d1b38504e        8. Earnings Per Share\\nBasic earnings per shar...\n",
       "3  d1b37e6a4        AMERICAN TOWER CORPORATION AND SUBSIDIARIES NO...\n",
       "4  d1b3a8e2c        The tax effects of temporary differences that ..."
      ]
     },
     "execution_count": 66,
     "metadata": {},
     "output_type": "execute_result"
    }
   ],
   "source": [
    "tatqa_corpus = pd.read_json(tatqa_corpus_path, lines=True)\n",
    "print(\"Total Documents in TATQA Dataset :\", tatqa_corpus.shape[0])\n",
    "tatqa_corpus.head()"
   ]
  },
  {
   "cell_type": "code",
   "execution_count": 70,
   "metadata": {},
   "outputs": [
    {
     "data": {
      "text/plain": [
       "Text(0.5, 1.0, 'Distribution of Seq Length for TATQA Corpus Dataset')"
      ]
     },
     "execution_count": 70,
     "metadata": {},
     "output_type": "execute_result"
    },
    {
     "data": {
      "image/png": "[encoded data removed]",
      "text/plain": [
       "<Figure size 640x480 with 1 Axes>"
      ]
     },
     "metadata": {},
     "output_type": "display_data"
    }
   ],
   "source": [
    "# Add Sequence Len to the corpuse\n",
    "# NEED TO HANDLE TABULAR DATA DIFFERENTLY\n",
    "tatqa_corpus['seq_len'] = tatqa_corpus['text'].apply(lambda x : len(x.split(' ')))\n",
    "\n",
    "tatqa_corpus['seq_len'].hist(bins=50)\n",
    "plt.xlabel(\"Sequence Len\")\n",
    "plt.ylabel(\"Sequence Count\")\n",
    "plt.title(\"Distribution of Seq Length for TATQA Corpus Dataset\")"
   ]
  },
  {
   "cell_type": "code",
   "execution_count": 71,
   "metadata": {},
   "outputs": [
    {
     "name": "stdout",
     "output_type": "stream",
     "text": [
      "Total Queries in Finance Bench Dataste: 1663\n"
     ]
    },
    {
     "data": {
      "text/html": [
       "<div>\n",
       "<style scoped>\n",
       "    .dataframe tbody tr th:only-of-type {\n",
       "        vertical-align: middle;\n",
       "    }\n",
       "\n",
       "    .dataframe tbody tr th {\n",
       "        vertical-align: top;\n",
       "    }\n",
       "\n",
       "    .dataframe thead th {\n",
       "        text-align: right;\n",
       "    }\n",
       "</style>\n",
       "<table border=\"1\" class=\"dataframe\">\n",
       "  <thead>\n",
       "    <tr style=\"text-align: right;\">\n",
       "      <th></th>\n",
       "      <th>_id</th>\n",
       "      <th>title</th>\n",
       "      <th>text</th>\n",
       "    </tr>\n",
       "  </thead>\n",
       "  <tbody>\n",
       "    <tr>\n",
       "      <th>0</th>\n",
       "      <td>q1a73c1d4</td>\n",
       "      <td></td>\n",
       "      <td>In which year was interest income greater than...</td>\n",
       "    </tr>\n",
       "    <tr>\n",
       "      <th>1</th>\n",
       "      <td>q1a72ef98</td>\n",
       "      <td></td>\n",
       "      <td>What was the Net Income (Loss) in 2019?</td>\n",
       "    </tr>\n",
       "    <tr>\n",
       "      <th>2</th>\n",
       "      <td>q1a716380</td>\n",
       "      <td></td>\n",
       "      <td>What was the percentage of Plan Assets for Oth...</td>\n",
       "    </tr>\n",
       "    <tr>\n",
       "      <th>3</th>\n",
       "      <td>q1a73f97e</td>\n",
       "      <td></td>\n",
       "      <td>What was the service revenue from Americas in ...</td>\n",
       "    </tr>\n",
       "    <tr>\n",
       "      <th>4</th>\n",
       "      <td>q1a731ee6</td>\n",
       "      <td></td>\n",
       "      <td>What was the Customer support renewal rate for...</td>\n",
       "    </tr>\n",
       "  </tbody>\n",
       "</table>\n",
       "</div>"
      ],
      "text/plain": [
       "         _id title                                               text\n",
       "0  q1a73c1d4        In which year was interest income greater than...\n",
       "1  q1a72ef98                  What was the Net Income (Loss) in 2019?\n",
       "2  q1a716380        What was the percentage of Plan Assets for Oth...\n",
       "3  q1a73f97e        What was the service revenue from Americas in ...\n",
       "4  q1a731ee6        What was the Customer support renewal rate for..."
      ]
     },
     "execution_count": 71,
     "metadata": {},
     "output_type": "execute_result"
    }
   ],
   "source": [
    "tatqa_query = pd.read_json(tatqa_query_path, lines=True)\n",
    "print(\"Total Queries in Finance Bench Dataste:\", tatqa_query.shape[0])\n",
    "tatqa_query.head()"
   ]
  },
  {
   "cell_type": "code",
   "execution_count": 72,
   "metadata": {},
   "outputs": [
    {
     "data": {
      "text/plain": [
       "Text(0.5, 1.0, 'Distribution of Seq Length for TATQA Query Dataset')"
      ]
     },
     "execution_count": 72,
     "metadata": {},
     "output_type": "execute_result"
    },
    {
     "data": {
      "image/png": "[encoded data removed]",
      "text/plain": [
       "<Figure size 640x480 with 1 Axes>"
      ]
     },
     "metadata": {},
     "output_type": "display_data"
    }
   ],
   "source": [
    "tatqa_query['seq_len'] = tatqa_query['text'].apply(lambda x : len(x.split(' ')))\n",
    "tatqa_query['seq_len'].hist(bins=30)\n",
    "plt.xlabel(\"Sequence Len\")\n",
    "plt.ylabel(\"Sequence Count\")\n",
    "plt.title(\"Distribution of Seq Length for TATQA Query Dataset\")"
   ]
  },
  {
   "cell_type": "code",
   "execution_count": 73,
   "metadata": {},
   "outputs": [
    {
     "name": "stdout",
     "output_type": "stream",
     "text": [
      "Number of Ground Truth Data in TATQA Bench Dataset: 498\n",
      "Number of Unique Queries: 498\n"
     ]
    },
    {
     "data": {
      "text/html": [
       "<div>\n",
       "<style scoped>\n",
       "    .dataframe tbody tr th:only-of-type {\n",
       "        vertical-align: middle;\n",
       "    }\n",
       "\n",
       "    .dataframe tbody tr th {\n",
       "        vertical-align: top;\n",
       "    }\n",
       "\n",
       "    .dataframe thead th {\n",
       "        text-align: right;\n",
       "    }\n",
       "</style>\n",
       "<table border=\"1\" class=\"dataframe\">\n",
       "  <thead>\n",
       "    <tr style=\"text-align: right;\">\n",
       "      <th></th>\n",
       "      <th>query_id</th>\n",
       "      <th>corpus_id</th>\n",
       "      <th>score</th>\n",
       "    </tr>\n",
       "  </thead>\n",
       "  <tbody>\n",
       "    <tr>\n",
       "      <th>0</th>\n",
       "      <td>q1a711272</td>\n",
       "      <td>d1a711510</td>\n",
       "      <td>1</td>\n",
       "    </tr>\n",
       "    <tr>\n",
       "      <th>1</th>\n",
       "      <td>q1a711416</td>\n",
       "      <td>d1a711510</td>\n",
       "      <td>1</td>\n",
       "    </tr>\n",
       "    <tr>\n",
       "      <th>2</th>\n",
       "      <td>q1a71177c</td>\n",
       "      <td>d1a7118d0</td>\n",
       "      <td>1</td>\n",
       "    </tr>\n",
       "    <tr>\n",
       "      <th>3</th>\n",
       "      <td>q1a711812</td>\n",
       "      <td>d1a7118d0</td>\n",
       "      <td>1</td>\n",
       "    </tr>\n",
       "    <tr>\n",
       "      <th>4</th>\n",
       "      <td>q1a711b3c</td>\n",
       "      <td>d1a711c7c</td>\n",
       "      <td>1</td>\n",
       "    </tr>\n",
       "  </tbody>\n",
       "</table>\n",
       "</div>"
      ],
      "text/plain": [
       "    query_id  corpus_id  score\n",
       "0  q1a711272  d1a711510      1\n",
       "1  q1a711416  d1a711510      1\n",
       "2  q1a71177c  d1a7118d0      1\n",
       "3  q1a711812  d1a7118d0      1\n",
       "4  q1a711b3c  d1a711c7c      1"
      ]
     },
     "execution_count": 73,
     "metadata": {},
     "output_type": "execute_result"
    }
   ],
   "source": [
    "tatqa_gt = pd.read_csv(tatqa_tsv_path, sep='\\t')\n",
    "print(\"Number of Ground Truth Data in TATQA Bench Dataset:\", tatqa_gt.shape[0])\n",
    "unique_queries = tatqa_gt.query_id.unique()\n",
    "print(\"Number of Unique Queries:\", unique_queries.shape[0])\n",
    "tatqa_gt.head()"
   ]
  },
  {
   "cell_type": "markdown",
   "metadata": {},
   "source": [
    "#### MultiHiertt"
   ]
  },
  {
   "cell_type": "code",
   "execution_count": 76,
   "metadata": {},
   "outputs": [],
   "source": [
    "multih_corpus_path = data_dir / 'multiheirtt_corpus.jsonl/corpus.jsonl'\n",
    "multih_query_path = data_dir / 'multiheirtt_queries.jsonl/queries.jsonl'\n",
    "multih_tsv_path = data_dir / 'MultiHeirtt_qrels.tsv'"
   ]
  },
  {
   "cell_type": "code",
   "execution_count": 78,
   "metadata": {},
   "outputs": [
    {
     "name": "stdout",
     "output_type": "stream",
     "text": [
      "Total Documents in MULTIH Dataset : 10475\n"
     ]
    },
    {
     "data": {
      "text/html": [
       "<div>\n",
       "<style scoped>\n",
       "    .dataframe tbody tr th:only-of-type {\n",
       "        vertical-align: middle;\n",
       "    }\n",
       "\n",
       "    .dataframe tbody tr th {\n",
       "        vertical-align: top;\n",
       "    }\n",
       "\n",
       "    .dataframe thead th {\n",
       "        text-align: right;\n",
       "    }\n",
       "</style>\n",
       "<table border=\"1\" class=\"dataframe\">\n",
       "  <thead>\n",
       "    <tr style=\"text-align: right;\">\n",
       "      <th></th>\n",
       "      <th>_id</th>\n",
       "      <th>title</th>\n",
       "      <th>text</th>\n",
       "    </tr>\n",
       "  </thead>\n",
       "  <tbody>\n",
       "    <tr>\n",
       "      <th>0</th>\n",
       "      <td>d8e4ea4ac</td>\n",
       "      <td></td>\n",
       "      <td>|  | Years Ended December 31, |\\n|  | 2006 | 2...</td>\n",
       "    </tr>\n",
       "    <tr>\n",
       "      <th>1</th>\n",
       "      <td>d8d3b0d4e</td>\n",
       "      <td></td>\n",
       "      <td>Upon the termination of a participants emplo...</td>\n",
       "    </tr>\n",
       "    <tr>\n",
       "      <th>2</th>\n",
       "      <td>d89382114</td>\n",
       "      <td></td>\n",
       "      <td>Note 6—Mergers and Acquisitions ElderTrust Mer...</td>\n",
       "    </tr>\n",
       "    <tr>\n",
       "      <th>3</th>\n",
       "      <td>d8d151e68</td>\n",
       "      <td></td>\n",
       "      <td>c) In October 2016, our accelerated share repu...</td>\n",
       "    </tr>\n",
       "    <tr>\n",
       "      <th>4</th>\n",
       "      <td>d88daccb2</td>\n",
       "      <td></td>\n",
       "      <td>(a) Represents weighted average price per shar...</td>\n",
       "    </tr>\n",
       "  </tbody>\n",
       "</table>\n",
       "</div>"
      ],
      "text/plain": [
       "         _id title                                               text\n",
       "0  d8e4ea4ac        |  | Years Ended December 31, |\\n|  | 2006 | 2...\n",
       "1  d8d3b0d4e        Upon the termination of a participants emplo...\n",
       "2  d89382114        Note 6—Mergers and Acquisitions ElderTrust Mer...\n",
       "3  d8d151e68        c) In October 2016, our accelerated share repu...\n",
       "4  d88daccb2        (a) Represents weighted average price per shar..."
      ]
     },
     "execution_count": 78,
     "metadata": {},
     "output_type": "execute_result"
    }
   ],
   "source": [
    "multih_corpus = pd.read_json(multih_corpus_path, lines=True)\n",
    "print(\"Total Documents in MULTIH Dataset :\", multih_corpus.shape[0])\n",
    "multih_corpus.head()"
   ]
  },
  {
   "cell_type": "code",
   "execution_count": 79,
   "metadata": {},
   "outputs": [
    {
     "data": {
      "text/plain": [
       "Text(0.5, 1.0, 'Distribution of Seq Length for MULTIH Corpus Dataset')"
      ]
     },
     "execution_count": 79,
     "metadata": {},
     "output_type": "execute_result"
    },
    {
     "data": {
      "image/png": "[encoded data removed]",
      "text/plain": [
       "<Figure size 640x480 with 1 Axes>"
      ]
     },
     "metadata": {},
     "output_type": "display_data"
    }
   ],
   "source": [
    "multih_corpus['seq_len'] = multih_corpus['text'].apply(lambda x : len(x.split(' ')))\n",
    "\n",
    "multih_corpus['seq_len'].hist(bins=50)\n",
    "plt.xlabel(\"Sequence Len\")\n",
    "plt.ylabel(\"Sequence Count\")\n",
    "plt.title(\"Distribution of Seq Length for MULTIH Corpus Dataset\")"
   ]
  },
  {
   "cell_type": "code",
   "execution_count": 81,
   "metadata": {},
   "outputs": [
    {
     "name": "stdout",
     "output_type": "stream",
     "text": [
      "Total Queries in MultiH Dataset: 974\n"
     ]
    },
    {
     "data": {
      "text/html": [
       "<div>\n",
       "<style scoped>\n",
       "    .dataframe tbody tr th:only-of-type {\n",
       "        vertical-align: middle;\n",
       "    }\n",
       "\n",
       "    .dataframe tbody tr th {\n",
       "        vertical-align: top;\n",
       "    }\n",
       "\n",
       "    .dataframe thead th {\n",
       "        text-align: right;\n",
       "    }\n",
       "</style>\n",
       "<table border=\"1\" class=\"dataframe\">\n",
       "  <thead>\n",
       "    <tr style=\"text-align: right;\">\n",
       "      <th></th>\n",
       "      <th>_id</th>\n",
       "      <th>title</th>\n",
       "      <th>text</th>\n",
       "    </tr>\n",
       "  </thead>\n",
       "  <tbody>\n",
       "    <tr>\n",
       "      <th>0</th>\n",
       "      <td>q82d4c6ec</td>\n",
       "      <td></td>\n",
       "      <td>What was the sum of Fourth Quarter without tho...</td>\n",
       "    </tr>\n",
       "    <tr>\n",
       "      <th>1</th>\n",
       "      <td>q855a35a0</td>\n",
       "      <td></td>\n",
       "      <td>In which section is Interest income smaller th...</td>\n",
       "    </tr>\n",
       "    <tr>\n",
       "      <th>2</th>\n",
       "      <td>q85384530</td>\n",
       "      <td></td>\n",
       "      <td>If Total Forward Hedged Revenues develops with...</td>\n",
       "    </tr>\n",
       "    <tr>\n",
       "      <th>3</th>\n",
       "      <td>q842c8af2</td>\n",
       "      <td></td>\n",
       "      <td>what was the ratio of the purchase in december...</td>\n",
       "    </tr>\n",
       "    <tr>\n",
       "      <th>4</th>\n",
       "      <td>q85451756</td>\n",
       "      <td></td>\n",
       "      <td>what is the highest total amount of segment in...</td>\n",
       "    </tr>\n",
       "  </tbody>\n",
       "</table>\n",
       "</div>"
      ],
      "text/plain": [
       "         _id title                                               text\n",
       "0  q82d4c6ec        What was the sum of Fourth Quarter without tho...\n",
       "1  q855a35a0        In which section is Interest income smaller th...\n",
       "2  q85384530        If Total Forward Hedged Revenues develops with...\n",
       "3  q842c8af2        what was the ratio of the purchase in december...\n",
       "4  q85451756        what is the highest total amount of segment in..."
      ]
     },
     "execution_count": 81,
     "metadata": {},
     "output_type": "execute_result"
    }
   ],
   "source": [
    "multih_query = pd.read_json(multih_query_path, lines=True)\n",
    "print(\"Total Queries in MultiH Dataset:\", multih_query.shape[0])\n",
    "multih_query.head()"
   ]
  },
  {
   "cell_type": "code",
   "execution_count": 82,
   "metadata": {},
   "outputs": [
    {
     "data": {
      "text/plain": [
       "Text(0.5, 1.0, 'Distribution of Seq Length for MULTIH Query Dataset')"
      ]
     },
     "execution_count": 82,
     "metadata": {},
     "output_type": "execute_result"
    },
    {
     "data": {
      "image/png": "[encoded data removed]",
      "text/plain": [
       "<Figure size 640x480 with 1 Axes>"
      ]
     },
     "metadata": {},
     "output_type": "display_data"
    }
   ],
   "source": [
    "multih_query['seq_len'] = multih_query['text'].apply(lambda x : len(x.split(' ')))\n",
    "multih_query['seq_len'].hist(bins=30)\n",
    "plt.xlabel(\"Sequence Len\")\n",
    "plt.ylabel(\"Sequence Count\")\n",
    "plt.title(\"Distribution of Seq Length for MULTIH Query Dataset\")"
   ]
  },
  {
   "cell_type": "code",
   "execution_count": 83,
   "metadata": {},
   "outputs": [
    {
     "name": "stdout",
     "output_type": "stream",
     "text": [
      "Number of Ground Truth Data in MULTIH Bench Dataset: 1330\n",
      "Number of Unique Queries: 292\n"
     ]
    },
    {
     "data": {
      "text/html": [
       "<div>\n",
       "<style scoped>\n",
       "    .dataframe tbody tr th:only-of-type {\n",
       "        vertical-align: middle;\n",
       "    }\n",
       "\n",
       "    .dataframe tbody tr th {\n",
       "        vertical-align: top;\n",
       "    }\n",
       "\n",
       "    .dataframe thead th {\n",
       "        text-align: right;\n",
       "    }\n",
       "</style>\n",
       "<table border=\"1\" class=\"dataframe\">\n",
       "  <thead>\n",
       "    <tr style=\"text-align: right;\">\n",
       "      <th></th>\n",
       "      <th>query_id</th>\n",
       "      <th>corpus_id</th>\n",
       "      <th>score</th>\n",
       "    </tr>\n",
       "  </thead>\n",
       "  <tbody>\n",
       "    <tr>\n",
       "      <th>0</th>\n",
       "      <td>q8112818c</td>\n",
       "      <td>d81128272</td>\n",
       "      <td>1</td>\n",
       "    </tr>\n",
       "    <tr>\n",
       "      <th>1</th>\n",
       "      <td>q8112818c</td>\n",
       "      <td>d811282cc</td>\n",
       "      <td>1</td>\n",
       "    </tr>\n",
       "    <tr>\n",
       "      <th>2</th>\n",
       "      <td>q8112818c</td>\n",
       "      <td>d81128380</td>\n",
       "      <td>1</td>\n",
       "    </tr>\n",
       "    <tr>\n",
       "      <th>3</th>\n",
       "      <td>q8112818c</td>\n",
       "      <td>d811283ee</td>\n",
       "      <td>1</td>\n",
       "    </tr>\n",
       "    <tr>\n",
       "      <th>4</th>\n",
       "      <td>q8112818c</td>\n",
       "      <td>d81128434</td>\n",
       "      <td>1</td>\n",
       "    </tr>\n",
       "  </tbody>\n",
       "</table>\n",
       "</div>"
      ],
      "text/plain": [
       "    query_id  corpus_id  score\n",
       "0  q8112818c  d81128272      1\n",
       "1  q8112818c  d811282cc      1\n",
       "2  q8112818c  d81128380      1\n",
       "3  q8112818c  d811283ee      1\n",
       "4  q8112818c  d81128434      1"
      ]
     },
     "execution_count": 83,
     "metadata": {},
     "output_type": "execute_result"
    }
   ],
   "source": [
    "multih_gt = pd.read_csv(multih_tsv_path, sep='\\t')\n",
    "print(\"Number of Ground Truth Data in MULTIH Bench Dataset:\", multih_gt.shape[0])\n",
    "unique_queries = multih_gt.query_id.unique()\n",
    "print(\"Number of Unique Queries:\", unique_queries.shape[0])\n",
    "multih_gt.head()"
   ]
  },
  {
   "cell_type": "code",
   "execution_count": 90,
   "metadata": {},
   "outputs": [
    {
     "name": "stdout",
     "output_type": "stream",
     "text": [
      "Entergy Corporation and Subsidiaries Notes to Financial Statements 106 NOTE 7.\n",
      "COMMON EQUITY Common Stock Treasury Stock Treasury stock activity for Entergy for 2009, 2008, and 2007 is as follows:\n",
      "|  | 2009 | 2008 | 2007 |\n",
      "|  | Treasury |  | Treasury |  | Treasury |  |\n",
      "|  | Shares | Cost (In Thousands) | Shares | Cost (In Thousands) | Shares | Cost (In Thousands) |\n",
      "| Beginning Balance, January 1 | 58,815,518 | $4,175,214 | 55,053,847 | $3,734,865 | 45,506,311 | $2,644,390 |\n",
      "| Repurchases | 7,680,000 | 613,125 | 4,792,299 | 512,351 | 11,581,842 | 1,215,578 |\n",
      "| Issuances: |  |  |  |  |  |  |\n",
      "| Employee Stock-BasedCompensation Plans | -856,390 | -60,846 | -1,025,408 | -71,636 | -2,029,686 | -124,801 |\n",
      "| Directors' Plan | -4,548 | -326 | -5,220 | -366 | -4,620 | -302 |\n",
      "| Ending Balance, December 31 | 65,634,580 | $4,727,167 | 58,815,518 | $4,175,214 | 55,053,847 | $3,734,865 |\n",
      "Entergy Corporation reissues treasury shares to meet the requirements of the Stock Plan for Outside Directors (Directors' Plan), two Equity Ownership Plans of Entergy Corporation and Subsidiaries, the Equity Awards Plan of Entergy Corporation and Subsidiaries, and certain other stock benefit plans.\n",
      "The Directors' Plan awards to non-employee directors a portion of their compensation in the form of a fixed number of shares of Entergy Corporation common stock.\n",
      "In January 2007, the Board approved a repurchase program under which Entergy is authorized to repurchase up to $1.5 billion of its common stock.\n",
      "In January 2008, the Board authorized an incremental $500 million share repurchase program to enable Entergy to consider opportunistic purchases in response to equity market conditions.\n",
      "Entergy completed both the $1.5 billion and $500 million programs in the third quarter 2009.\n",
      "In October 2009, the Board granted authority for an additional $750 million share repurchase program.\n",
      "Retained Earnings and Dividend Restrictions Provisions within the articles of incorporation or pertinent indentures and various other agreements relating to the long-term debt and preferred stock of certain of Entergy Corporation's subsidiaries restrict the payment of cash dividends or other distributions on their common and preferred stock.\n",
      "As of December 31, 2009, Entergy Arkansas and Entergy Mississippi had restricted retained earnings unavailable for distribution to Entergy Corporation of $461.6 million and $236 million, respectively.\n",
      "Entergy Corporation received dividend payments from subsidiaries totaling $417 million in 2009, $313 million in 2008, and $625 million in 2007.\n",
      "NOTE 8.\n",
      "COMMITMENTS AND CONTINGENCIES Entergy and the Registrant Subsidiaries are involved in a number of legal, regulatory, and tax proceedings before various courts, regulatory commissions, and governmental agencies in the ordinary course of business.\n",
      "While management is unable to predict the outcome of such proceedings, management does not believe that the ultimate resolution of these matters will have a material adverse effect on Entergy's results of operations, cash flows, or financial condition.\n",
      "Entergy discusses regulatory proceedings in Note 2 to the financial statements and discusses tax proceedings in Note 3 to the financial statements.\n",
      "Entergy Corporation and Subsidiaries Management's Financial Discussion and Analysis 20 methodology of computing Massachusetts state income taxes resulting from legislation passed in the third quarter 2008, which resulted in an income tax benefit of approximately $18.8 million.\n",
      "These factors were partially offset by: x income taxes recorded by Entergy Power Generation, LLC, prior to its liquidation, resulting from the redemption payments it received in connection with its investment in Entergy Nuclear Power Marketing, LLC during the third quarter 2008, which resulted in an income tax expense of approximately $16.1 million; and x book and tax differences for utility plant items and state income taxes at the Utility operating companies, including the flow-through treatment of the Entergy Arkansas write-offs discussed above.\n",
      "The effective income tax rate for 2007 was 30.7%.\n",
      "The reduction in the effective income tax rate versus the federal statutory rate of 35% in 2007 is primarily due to: x a reduction in income tax expense due to a step-up in the tax basis on the Indian Point 2 non-qualified decommissioning trust fund resulting from restructuring of the trusts, which reduced deferred taxes on the trust fund and reduced current tax expense; x the resolution of tax audit issues involving the 2002-2003 audit cycle; x an adjustment to state income taxes for Non-Utility Nuclear to reflect the effect of a change in the methodology of computing New York state income taxes as required by that state's taxing authority; x book and tax differences related to the allowance for equity funds used during construction; and x the amortization of investment tax credits.\n",
      "These factors were partially offset by book and tax differences for utility plant items and state income taxes at the Utility operating companies.\n",
      "See Note 3 to the financial statements for a reconciliation of the federal statutory rate of 35.0% to the effective income tax rates, and for additional discussion regarding income taxes.\n",
      "Liquidity and Capital Resources This section discusses Entergy's capital structure, capital spending plans and other uses of capital, sources of capital, and the cash flow activity presented in the cash flow statement.\n",
      "Capital Structure Entergy's capitalization is balanced between equity and debt, as shown in the following table.\n",
      "The decrease in the debt to capital percentage from 2008 to 2009 is primarily the result of an increase in shareholders' equity primarily due to an increase in retained earnings, partially offset by repurchases of common stock, along with a decrease in borrowings under Entergy Corporation's revolving credit facility.\n",
      "The increase in the debt to capital percentage from 2007 to 2008 is primarily the result of additional borrowings under Entergy Corporation's revolving credit facility.\n",
      "|  | 2009 | 2008 | 2007 |\n",
      "| Net debt to net capital at the end of the year | 53.5% | 55.6% | 54.7% |\n",
      "| Effect of subtracting cash from debt | 3.8% | 4.1% | 2.9% |\n",
      "| Debt to capital at the end of the year | 57.3% | 59.7% | 57.6% |\n",
      "Entergy Corporation and Subsidiaries Notes to Financial Statements 158 decommissioning trust funds held by NYPA were $719 million for the Indian Point 3 plant and $785 million for the FitzPatrick plant.\n",
      "The fair values are based on the trust statements received from NYPA and are valued by the fund administrator using net asset value as a practical expedient.\n",
      "Accordingly, these funds are not assigned a level in the fair value hierarchy.\n",
      "The receivables for the beneficial interests in the decommissioning trust funds are recorded in other deferred debits on the consolidated balance sheet.\n"
     ]
    }
   ],
   "source": [
    "print(multih_corpus.text.tolist()[500])"
   ]
  }
 ],
 "metadata": {
  "kernelspec": {
   "display_name": "Python 3.11.10 ('fin_env')",
   "language": "python",
   "name": "python3"
  },
  "language_info": {
   "codemirror_mode": {
    "name": "ipython",
    "version": 3
   },
   "file_extension": ".py",
   "mimetype": "text/x-python",
   "name": "python",
   "nbconvert_exporter": "python",
   "pygments_lexer": "ipython3",
   "version": "3.11.10"
  },
  "orig_nbformat": 4,
  "vscode": {
   "interpreter": {
    "hash": "24178e9080b9111c74efca0fe0e59b8013241aff9e5d7780cefaf674cfabb6e8"
   }
  }
 },
 "nbformat": 4,
 "nbformat_minor": 2
}
